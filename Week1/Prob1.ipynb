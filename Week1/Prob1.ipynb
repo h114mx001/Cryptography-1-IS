{
 "cells": [
  {
   "cell_type": "markdown",
   "metadata": {},
   "source": [
    "You may refer to this [Wikipedia link](https://en.wikipedia.org/wiki/One-time_pad#True_randomness) about using many-time pad "
   ]
  },
  {
   "cell_type": "code",
   "execution_count": 1,
   "metadata": {},
   "outputs": [],
   "source": [
    "from pwn import xor\n",
    "# using the xor function from pwntools\n",
    "# pwn.xor(a: bytes, b: bytes) -> bytes\n",
    "# the hex bytes from c and target is collected from Coursera\n",
    "c = [0x315c4eeaa8b5f8aaf9174145bf43e1784b8fa00dc71d885a804e5ee9fa40b16349c146fb778cdf2d3aff021dfff5b403b510d0d0455468aeb98622b137dae857553ccd8883a7bc37520e06e515d22c954eba5025b8cc57ee59418ce7dc6bc41556bdb36bbca3e8774301fbcaa3b83b220809560987815f65286764703de0f3d524400a19b159610b11ef3e,0x234c02ecbbfbafa3ed18510abd11fa724fcda2018a1a8342cf064bbde548b12b07df44ba7191d9606ef4081ffde5ad46a5069d9f7f543bedb9c861bf29c7e205132eda9382b0bc2c5c4b45f919cf3a9f1cb74151f6d551f4480c82b2cb24cc5b028aa76eb7b4ab24171ab3cdadb8356f, 0x32510ba9a7b2bba9b8005d43a304b5714cc0bb0c8a34884dd91304b8ad40b62b07df44ba6e9d8a2368e51d04e0e7b207b70b9b8261112bacb6c866a232dfe257527dc29398f5f3251a0d47e503c66e935de81230b59b7afb5f41afa8d661cb,0x32510ba9aab2a8a4fd06414fb517b5605cc0aa0dc91a8908c2064ba8ad5ea06a029056f47a8ad3306ef5021eafe1ac01a81197847a5c68a1b78769a37bc8f4575432c198ccb4ef63590256e305cd3a9544ee4160ead45aef520489e7da7d835402bca670bda8eb775200b8dabbba246b130f040d8ec6447e2c767f3d30ed81ea2e4c1404e1315a1010e7229be6636aaa,0x3f561ba9adb4b6ebec54424ba317b564418fac0dd35f8c08d31a1fe9e24fe56808c213f17c81d9607cee021dafe1e001b21ade877a5e68bea88d61b93ac5ee0d562e8e9582f5ef375f0a4ae20ed86e935de81230b59b73fb4302cd95d770c65b40aaa065f2a5e33a5a0bb5dcaba43722130f042f8ec85b7c2070,0x32510bfbacfbb9befd54415da243e1695ecabd58c519cd4bd2061bbde24eb76a19d84aba34d8de287be84d07e7e9a30ee714979c7e1123a8bd9822a33ecaf512472e8e8f8db3f9635c1949e640c621854eba0d79eccf52ff111284b4cc61d11902aebc66f2b2e436434eacc0aba938220b084800c2ca4e693522643573b2c4ce35050b0cf774201f0fe52ac9f26d71b6cf61a711cc229f77ace7aa88a2f19983122b11be87a59c355d25f8e4,0x32510bfbacfbb9befd54415da243e1695ecabd58c519cd4bd90f1fa6ea5ba47b01c909ba7696cf606ef40c04afe1ac0aa8148dd066592ded9f8774b529c7ea125d298e8883f5e9305f4b44f915cb2bd05af51373fd9b4af511039fa2d96f83414aaaf261bda2e97b170fb5cce2a53e675c154c0d9681596934777e2275b381ce2e40582afe67650b13e72287ff2270abcf73bb028932836fbdecfecee0a3b894473c1bbeb6b4913a536ce4f9b13f1efff71ea313c8661dd9a4ce,0x315c4eeaa8b5f8bffd11155ea506b56041c6a00c8a08854dd21a4bbde54ce56801d943ba708b8a3574f40c00fff9e00fa1439fd0654327a3bfc860b92f89ee04132ecb9298f5fd2d5e4b45e40ecc3b9d59e9417df7c95bba410e9aa2ca24c5474da2f276baa3ac325918b2daada43d6712150441c2e04f6565517f317da9d3,0x271946f9bbb2aeadec111841a81abc300ecaa01bd8069d5cc91005e9fe4aad6e04d513e96d99de2569bc5e50eeeca709b50a8a987f4264edb6896fb537d0a716132ddc938fb0f836480e06ed0fcd6e9759f40462f9cf57f4564186a2c1778f1543efa270bda5e933421cbe88a4a52222190f471e9bd15f652b653b7071aec59a2705081ffe72651d08f822c9ed6d76e48b63ab15d0208573a7eef027,0x466d06ece998b7a2fb1d464fed2ced7641ddaa3cc31c9941cf110abbf409ed39598005b3399ccfafb61d0315fca0a314be138a9f32503bedac8067f03adbf3575c3b8edc9ba7f537530541ab0f9f3cd04ff50d66f1d559ba520e89a2cb2a83]\n",
    "target = 0x32510ba9babebbbefd001547a810e67149caee11d945cd7fc81a05e9f85aac650e9052ba6a8cd8257bf14d13e6f0a803b54fde9e77472dbff89d71b57bddef121336cb85ccb8f3315f4b52e301d16e9f52f904\n",
    "ct = [bytes.fromhex(hex(c[i])[2:]) for i in range(0, len(c))]\n",
    "target = bytes.fromhex(hex(target)[2:])"
   ]
  },
  {
   "cell_type": "markdown",
   "metadata": {},
   "source": [
    "As this many-time pad use the same key $k$, if we have a $ct_i (0 <= i <= 9)$ and our target $c_{target}$; we can apply the XOR operation on these ciphertext (XOR: $\\oplus$). <br>\n",
    "By this way, we can eliminate the appearance of the key: <br>\n",
    "$$ct_i \\oplus c_{target} = (p_i \\oplus k) \\oplus (p_{target} \\oplus k) = p_i \\oplus p_{target}$$\n",
    "By examining the result, we can (maybe) see the something about the target plaintext."
   ]
  },
  {
   "cell_type": "code",
   "execution_count": 2,
   "metadata": {},
   "outputs": [],
   "source": [
    "# write the output into a \"target.txt\" file\n",
    "# perform cryptanalysis on the messages\n",
    "import string\n",
    "alphabet = string.ascii_letters + \" \"\n",
    "with open(\"result.txt\", \"w\") as f:\n",
    "    for i in range(0, len(ct)):\n",
    "        f.write(\"[{}] \".format(i))\n",
    "        tmp = xor(ct[i], target)\n",
    "        for i in tmp:\n",
    "            if (chr(i) in alphabet):\n",
    "                f.write(chr(i) + \" \")\n",
    "            else:\n",
    "                f.write(\"* \")\n",
    "        f.write(\"\\n\")"
   ]
  },
  {
   "cell_type": "markdown",
   "metadata": {},
   "source": [
    "There is a hint from the course:\n",
    "\n",
    "> XOR the ciphertexts together, and consider what happens when a space is XORed with a character in [a-zA-Z].\n",
    "\n",
    "In short, if you XOR a lowercase character with 'space'; you will get an uppercase one. (You may try this by yourself).\n",
    "\n",
    "We apply this hint into our cryptanalysis by this way; in the ciphertext we had, there are some spaces character; when this space XOR with a character in targeted message (as the key has been eliminated); the operation will have the output as the uppercased version. Looking at the result [9] in the file, you see a lowercase 't'; this may tell us the [9] ciphertext have a leading space. Let's see.\n",
    "\n",
    "We will go through each column in the file, and write down the letter with the highest frequency.\n",
    "\n",
    "I have made this:\n",
    "\n",
    "```t H E ? S E C U E T ? M E S S A G E ? I S ? ? w H ? N ? U S I N G ? A ? S T R E A M ? C I P H E R ? ? N E V E R ? U S E ? T H E ? K E Y ? M O R E ? T H A N ? O N C E ? ? ? ? ? ? ? ? ? ? ? ? ? ? ? ? ```\n",
    "\n",
    "After seeing this cipher, we can assume the cipher is something like this:\n",
    "```The secret message is? When using a stream cipher? never use the key more than once```\n",
    "\n",
    "With the '?' in both line is the character that we have not known clearly yet.\n",
    "We can compare the length of our message with the length of the ciphertext:"
   ]
  },
  {
   "cell_type": "code",
   "execution_count": 3,
   "metadata": {},
   "outputs": [
    {
     "name": "stdout",
     "output_type": "stream",
     "text": [
      "83\n",
      "83\n"
     ]
    }
   ],
   "source": [
    "potentialP = b\"The secret message is? When using a stream cipher? never use the key more than once\"\n",
    "print(len(list(potentialP)))\n",
    "print(len(target))"
   ]
  },
  {
   "cell_type": "markdown",
   "metadata": {},
   "source": [
    "We may be confident now our message is nearly the same as the answer. Now, I will bruteforce the two last characters. It should be some punctuations which are used inside a sentence like `:` or `;` or `,`, right?"
   ]
  },
  {
   "cell_type": "code",
   "execution_count": 8,
   "metadata": {},
   "outputs": [
    {
     "name": "stdout",
     "output_type": "stream",
     "text": [
      ": :\n",
      "The secret message is: When using a stream cipher: never use the key more than once\n",
      "b\"We can factor the number 15 with quantum computere. We can also factor the number 1C\\x81\\xa2\\xde'\\x82\\x99@\\x7f\\xa8^\\xee\\xd85(\\xa3E\\x13m\\x90\\xdd<\\xec\\xd3j\\xdc\\xd3\\xf2\\xaf!\\xcc]`7\\xb2\\xc5|\\xd0\\xcd$j\\xa1\\x8d\\x83Z\\xa4\\x80l\\xde\\xc4\\xa7\\x91\\x19 \\xa7\\xf3\"\n",
      ": ;\n",
      "The secret message is: When using a stream cipher; never use the key more than once\n",
      "b\"We can factor the number 15 with quantum computerd. We can also factor the number 1C\\x81\\xa2\\xde'\\x82\\x99@\\x7f\\xa8^\\xee\\xd85(\\xa3E\\x13m\\x90\\xdd<\\xec\\xd3j\\xdc\\xd3\\xf2\\xaf!\\xcc]`7\\xb2\\xc5|\\xd0\\xcd$j\\xa1\\x8d\\x83Z\\xa4\\x80l\\xde\\xc5\\xa7\\x91\\x19 \\xa7\\xf3\"\n",
      ": ,\n",
      "The secret message is: When using a stream cipher, never use the key more than once\n",
      "b\"We can factor the number 15 with quantum computers. We can also factor the number 1C\\x81\\xa2\\xde'\\x82\\x99@\\x7f\\xa8^\\xee\\xd85(\\xa3E\\x13m\\x90\\xdd<\\xec\\xd3j\\xdc\\xd3\\xf2\\xaf!\\xcc]`7\\xb2\\xc5|\\xd0\\xcd$j\\xa1\\x8d\\x83Z\\xa4\\x80l\\xde\\xd2\\xa7\\x91\\x19 \\xa7\\xf3\"\n",
      "; :\n",
      "The secret message is; When using a stream cipher: never use the key more than once\n",
      "b\"We can factor the numcer 15 with quantum computere. We can also factor the number 1C\\x81\\xa2\\xde'\\x82\\x99@\\x7f\\xa8^\\xee\\xd85(\\xa3E\\x13m\\x90\\xdd=\\xec\\xd3j\\xdc\\xd3\\xf2\\xaf!\\xcc]`7\\xb2\\xc5|\\xd0\\xcd$j\\xa1\\x8d\\x83Z\\xa4\\x80l\\xde\\xc4\\xa7\\x91\\x19 \\xa7\\xf3\"\n",
      "; ;\n",
      "The secret message is; When using a stream cipher; never use the key more than once\n",
      "b\"We can factor the numcer 15 with quantum computerd. We can also factor the number 1C\\x81\\xa2\\xde'\\x82\\x99@\\x7f\\xa8^\\xee\\xd85(\\xa3E\\x13m\\x90\\xdd=\\xec\\xd3j\\xdc\\xd3\\xf2\\xaf!\\xcc]`7\\xb2\\xc5|\\xd0\\xcd$j\\xa1\\x8d\\x83Z\\xa4\\x80l\\xde\\xc5\\xa7\\x91\\x19 \\xa7\\xf3\"\n",
      "; ,\n",
      "The secret message is; When using a stream cipher, never use the key more than once\n",
      "b\"We can factor the numcer 15 with quantum computers. We can also factor the number 1C\\x81\\xa2\\xde'\\x82\\x99@\\x7f\\xa8^\\xee\\xd85(\\xa3E\\x13m\\x90\\xdd=\\xec\\xd3j\\xdc\\xd3\\xf2\\xaf!\\xcc]`7\\xb2\\xc5|\\xd0\\xcd$j\\xa1\\x8d\\x83Z\\xa4\\x80l\\xde\\xd2\\xa7\\x91\\x19 \\xa7\\xf3\"\n",
      ", :\n",
      "The secret message is, When using a stream cipher: never use the key more than once\n",
      "b\"We can factor the numter 15 with quantum computere. We can also factor the number 1C\\x81\\xa2\\xde'\\x82\\x99@\\x7f\\xa8^\\xee\\xd85(\\xa3E\\x13m\\x90\\xdd*\\xec\\xd3j\\xdc\\xd3\\xf2\\xaf!\\xcc]`7\\xb2\\xc5|\\xd0\\xcd$j\\xa1\\x8d\\x83Z\\xa4\\x80l\\xde\\xc4\\xa7\\x91\\x19 \\xa7\\xf3\"\n",
      ", ;\n",
      "The secret message is, When using a stream cipher; never use the key more than once\n",
      "b\"We can factor the numter 15 with quantum computerd. We can also factor the number 1C\\x81\\xa2\\xde'\\x82\\x99@\\x7f\\xa8^\\xee\\xd85(\\xa3E\\x13m\\x90\\xdd*\\xec\\xd3j\\xdc\\xd3\\xf2\\xaf!\\xcc]`7\\xb2\\xc5|\\xd0\\xcd$j\\xa1\\x8d\\x83Z\\xa4\\x80l\\xde\\xc5\\xa7\\x91\\x19 \\xa7\\xf3\"\n",
      ", ,\n",
      "The secret message is, When using a stream cipher, never use the key more than once\n",
      "b\"We can factor the numter 15 with quantum computers. We can also factor the number 1C\\x81\\xa2\\xde'\\x82\\x99@\\x7f\\xa8^\\xee\\xd85(\\xa3E\\x13m\\x90\\xdd*\\xec\\xd3j\\xdc\\xd3\\xf2\\xaf!\\xcc]`7\\xb2\\xc5|\\xd0\\xcd$j\\xa1\\x8d\\x83Z\\xa4\\x80l\\xde\\xd2\\xa7\\x91\\x19 \\xa7\\xf3\"\n"
     ]
    }
   ],
   "source": [
    "possibleCases = \":;,\"\n",
    "payload = \"The secret message is{0} When using a stream cipher{1} never use the key more than once\"\n",
    "for i in range(0, len(possibleCases)):\n",
    "    for j in range(0, len(possibleCases)):\n",
    "        print(possibleCases[i], possibleCases[j])\n",
    "        tmp = payload.format(possibleCases[i], possibleCases[j])\n",
    "        tmpKey = xor(tmp.encode(), target)\n",
    "        testQ1 = xor(tmpKey, ct[0])\n",
    "        print(tmp)\n",
    "        print(testQ1)"
   ]
  },
  {
   "cell_type": "markdown",
   "metadata": {},
   "source": [
    "Notice that the trial with ':' and ',' has the true answer.\n",
    "\n",
    "=> secret: **The secret message is: When using a stream cipher, never use the key more than once**\n",
    "\n",
    "> But what about the other ciphers that are longer than this secret?\n",
    "\n",
    "In this challenge, the key is long enough even with the longest ciphertext; therefore, the only way we can solve this is trying to guess. \n",
    "This may work like this:\n",
    "```\n",
    "1. Loop from character i = n (where n is the length of our secret) to the end of longest ciphertext:\n",
    "2. Let k[i] = [0, 255]\n",
    "3. XOR the k[i] with all other ct[x][i] (with x from 0 -> 9)\n",
    "4. if all are readable characters and make senses; keep it\n",
    "5. if not all are readable, go through step 2 to next k[i]\n",
    "6. else go to step 1 for the next index\n",
    "```\n",
    "You can try it by yourselves. If you are lazy, you may search the longest sentence (you can view some of its part already) and try to decrypt the others.\n",
    "\n",
    "FYI, here is all of 10 hidden messages and key:\n",
    "\n",
    "Key: 0x66396e89c9dbd8cc9874352acd6395102eafce78aa7fed28a07f6bc98d29c50b69b0339a19f8aa401a9c6d708f80c066c763fef0123148cdd8e802d05ba98777335daefcecd59c433a6b268b60bf4ef03c9a611098bb3e9a3161edc7b804a33522cfd202d2c68c57376edba8c2ca50027c61246ce2a12b0c4502175010c0a1ba4625786d911100797d8a47e98b0204c4ef06c867a950f11ac989dea88fd1dbf16748749ed4c6f45b384c9d96c4\n",
    "\n",
    "- [0] We can factor the number 15 with quantum computers. We can also factor the number 15 with a dog trained to bark three times - Robert Harley\n",
    "- [1] Euler would probably enjoy that now his theorem becomes a corner stone of crypto - Annonymous on Euler's theorem\n",
    "- [2] The nice thing about Keeyloq is now we cryptographers can drive a lot of fancy cars - Dan Boneh\n",
    "- [3] The ciphertext produced by a weak encryption algorithm looks as good as ciphertext produced by a strong encryption algorithm - Philip Zimmermann\n",
    "- [4] You don't want to buy a set of car keys from a guy who specializes in stealing cars - Marc Rotenberg commenting on Clipper\n",
    "- [5] There are two types of cryptography - that which will keep secrets safe from your little sister, and that which will keep secrets safe from your government - Bruce Schneier\n",
    "- [6] There are two types of cyptography: one that allows the Government to use brute force to break the code, and one that requires the Government to use brute force to break you\n",
    "- [7] We can see the point where the chip is unhappy if a wrong bit is sent and consumes more power from the environment - Adi Shamir\n",
    "- [8] A (private-key)  encryption scheme states 3 algorithms, namely a procedure for generating keys, a procedure for encrypting, and a procedure for decrypting.?\n",
    "- [9]  The Concise OxfordDictionary (2006) defines crypto as the art of  writing o r solving codes. \n",
    "- [10] The secret message is: When using a stream cipher, never use the key more than once\n",
    "\n"
   ]
  }
 ],
 "metadata": {
  "kernelspec": {
   "display_name": "Python 3.10.7 64-bit",
   "language": "python",
   "name": "python3"
  },
  "language_info": {
   "codemirror_mode": {
    "name": "ipython",
    "version": 3
   },
   "file_extension": ".py",
   "mimetype": "text/x-python",
   "name": "python",
   "nbconvert_exporter": "python",
   "pygments_lexer": "ipython3",
   "version": "3.10.7"
  },
  "orig_nbformat": 4,
  "vscode": {
   "interpreter": {
    "hash": "767d51c1340bd893661ea55ea3124f6de3c7a262a8b4abca0554b478b1e2ff90"
   }
  }
 },
 "nbformat": 4,
 "nbformat_minor": 2
}
