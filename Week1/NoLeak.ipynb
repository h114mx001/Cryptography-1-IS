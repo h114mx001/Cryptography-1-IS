{
 "cells": [
  {
   "cell_type": "markdown",
   "metadata": {},
   "source": [
    "> Each time you connect, I generate a new one time pad. I also check for leaks, so there's no chance you can learn anything about my secrets! <br> Connect at ```nc socket.cryptohack.org 13370```"
   ]
  },
  {
   "cell_type": "markdown",
   "metadata": {},
   "source": [
    "[NoLeak.py](/NoLeak.py)"
   ]
  },
  {
   "cell_type": "markdown",
   "metadata": {},
   "source": [
    "The critical in this script is the wrong implementation in the function `xor_flag_with_otp()`, let's analyze the function.\n",
    "\n",
    "The variable `otp` is generated from `os.urandom()`, which is cryptographically secured (You can have more information in this [link](https://crypto.stackexchange.com/questions/39186/)). So we can 'safely' remove the chance of having an attack on the PRG. (Which we will demonstrate in another attack). \n",
    "\n",
    "It seems the OTP here is very well-implemented, as it always created a secure OTP that has the same length as the plaintext. A complete theoretical OTP implementation, even with an additional support that it can 'remove ciphertext with leak bytes' from the flag. \n",
    "\n",
    "So what is the vuln?\n",
    "\n",
    "#### **Stop some minutes and think about it!**\n"
   ]
  },
  {
   "cell_type": "markdown",
   "metadata": {},
   "source": [
    "\n",
    "Actually, the additional part that can remove the leaked bytes is the vulnerability. \n",
    "\n",
    "```Python\n",
    "    for c, p in zip(xored, flag_ord):\n",
    "        assert c != p\n",
    "```\n",
    "\n",
    "First, let's see, why the ciphertext could leak some bytes from the plaintext? The function `os.urandom(n)` will give us a random bytestring with a given length $n$. Each byte has the value in range $[0, 255]$ in decimal. If `urandom` gives a byte `0` in the OTP, it could 'leak' the byte from the plaintext, as:\n",
    "\n",
    "$$\n",
    "k \\oplus 0 = k\n",
    "$$\n",
    "\n",
    "Therefore, the ciphertext $c$ we are given, there are no position $i (0 <= i < n)$ that $c_i = p_i$.\n",
    "\n",
    "However, in this challenge, we can request as many ciphertext (from the same plaintext) as we want. Also, we know that at any position, $c_i$ only can hold a value from $[0, 255]$, except the value in the plaintext. \n",
    "\n",
    "Therefore, we can do some eliminations based on the ciphertext we request. For example, if $p_i = 32$, this implies that $c_i \\in [0, 255] \\setminus \\{32\\}$. We will request many ciphertexts, and if we have seen all value in the set $[0, 255] \\setminus \\{32\\}$, we can say that $p_i = 32$."
   ]
  },
  {
   "cell_type": "markdown",
   "metadata": {},
   "source": [
    "#### **Here is the implementation of the challenge**"
   ]
  },
  {
   "cell_type": "code",
   "execution_count": 1,
   "metadata": {},
   "outputs": [],
   "source": [
    "# import some library\n",
    "import socket\n",
    "import json\n",
    "import string\n",
    "import base64"
   ]
  },
  {
   "cell_type": "code",
   "execution_count": 2,
   "metadata": {},
   "outputs": [],
   "source": [
    "# template for the socket request\n",
    "request = {\"msg\": \"request\"}\n",
    "# information about the host\n",
    "ip = \"socket.cryptohack.org\"\n",
    "port = 13370\n",
    "#  \n",
    "result = [0]*20 # for recording the plaintext byte"
   ]
  },
  {
   "cell_type": "code",
   "execution_count": 3,
   "metadata": {},
   "outputs": [],
   "source": [
    "possibleAlphabet = string.digits + string.ascii_letters + string.punctuation # the alphabet of our ciphertext\n",
    "alphabet = [ord(i) for i in possibleAlphabet] # just a convertion from char -> byte"
   ]
  },
  {
   "cell_type": "code",
   "execution_count": 4,
   "metadata": {},
   "outputs": [],
   "source": [
    "client = socket.socket(socket.AF_INET, socket.SOCK_STREAM)\n",
    "client.connect((ip, port))\n",
    "\n",
    "# Connect to our host!"
   ]
  },
  {
   "cell_type": "code",
   "execution_count": 5,
   "metadata": {},
   "outputs": [
    {
     "name": "stdout",
     "output_type": "stream",
     "text": [
      "No leaks\n",
      "\n"
     ]
    }
   ],
   "source": [
    "print(client.recv(10240).decode()) # print out the first message"
   ]
  },
  {
   "cell_type": "code",
   "execution_count": 6,
   "metadata": {},
   "outputs": [],
   "source": [
    "checkFinish = []\n",
    "for i in range(20):\n",
    "    checkFinish.append(set(alphabet))\n",
    "# this guys use for us to check which character haven't been seen in a specific location i"
   ]
  },
  {
   "cell_type": "code",
   "execution_count": 7,
   "metadata": {},
   "outputs": [],
   "source": [
    "def checkAll():\n",
    "    for i in result:\n",
    "        if i == 0:\n",
    "            return False\n",
    "    return True"
   ]
  },
  {
   "cell_type": "code",
   "execution_count": null,
   "metadata": {},
   "outputs": [],
   "source": [
    "# DON'T RUN THIS GUY IN JUPYTER!!\n",
    "# You should convert the notebook into python script to print it out terminal.\n",
    "while not checkAll():\n",
    "    # send the request for the next ciphertext\n",
    "    client.send(json.dumps(request).encode())\n",
    "    # receive the res and load the json\n",
    "    encByte = client.recv(10240)\n",
    "    test = json.loads(encByte)\n",
    "    # get the \"ciphertext\"\n",
    "    if \"ciphertext\" in test:\n",
    "        # get the raw bytes, through base64 decoding\n",
    "        encryptedBytes = base64.b64decode(test[\"ciphertext\"])\n",
    "        # iterate through the raw bytes, for each location, remove the byte in checkFinish\n",
    "        for i in range(0, len(encryptedBytes)):\n",
    "            if encryptedBytes[i] in checkFinish[i]:\n",
    "                checkFinish[i].remove(encryptedBytes[i])\n",
    "            # if there is only one byte (i.e. the byte that doesn't appear in ciphertext, get it)\n",
    "            if len(checkFinish[i]) == 1:\n",
    "                result[i] = checkFinish[i].pop()\n",
    "                print(result)\n",
    "        # trace the progress of the cryptanalysis\n",
    "        for i in range(0, len(checkFinish)):\n",
    "            print(len(checkFinish[i]), end = \" \")\n",
    "        print()\n",
    "# Bingo! You got it!\n",
    "for i in result:\n",
    "    print(chr(i), end = \"\")"
   ]
  }
 ],
 "metadata": {
  "kernelspec": {
   "display_name": "SageMath 9.5",
   "language": "sage",
   "name": "sagemath"
  },
  "language_info": {
   "codemirror_mode": {
    "name": "ipython",
    "version": 3
   },
   "file_extension": ".py",
   "mimetype": "text/x-python",
   "name": "python",
   "nbconvert_exporter": "python",
   "pygments_lexer": "ipython3",
   "version": "3.10.7"
  },
  "orig_nbformat": 4,
  "vscode": {
   "interpreter": {
    "hash": "e7370f93d1d0cde622a1f8e1c04877d8463912d04d973331ad4851f04de6915a"
   }
  }
 },
 "nbformat": 4,
 "nbformat_minor": 2
}
